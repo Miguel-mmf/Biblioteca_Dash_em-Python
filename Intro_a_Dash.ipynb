{
 "cells": [
  {
   "cell_type": "markdown",
   "metadata": {
    "colab_type": "text",
    "id": "EG-gmN9XfduE"
   },
   "source": [
    "***\n",
    "# **Introdução a Biblioteca Dash**\n",
    "\n",
    "***"
   ]
  },
  {
   "cell_type": "markdown",
   "metadata": {
    "colab_type": "text",
    "id": "ICG7wheNjLR4"
   },
   "source": [
    "## **Introdução**\n",
    "***\n",
    "O objetivo deste material é introduzir e servir como guia rápido para a utilização da biblioteca Dash em Python. Dessa forma, esse material teve como base para a sua construção a documentação disponivel na internet.\n",
    "\n",
    "Acesse a site [Dash](https://plotly.com/dash/).\n",
    "\n",
    "Acesse a documentação completa clicando [aqui](https://dash.plotly.com/introduction).\n",
    "\n"
   ]
  },
  {
   "cell_type": "markdown",
   "metadata": {
    "colab_type": "text",
    "id": "sZQx32xvxR8N"
   },
   "source": [
    "### **Algumas vantagens da biblioteca Dash**\n",
    "Dash é uma ferramenta indispensável para a visualização de dados por meio da construção de uma aplicação na internet com a biblioteca plotly.py.\n",
    "  * É escrita em cima de plotly.js, Flask e React.js (Foi desenvolvido por Plotly)\n",
    "  * Dash é simples o bastante para construir aplicações de forma rápida\n",
    "    * Possibilita a maniputação de dados e apresentação dessa de forma simultânea\n",
    "  * Renderizado no seu navegador da web\n",
    "  * Biblioteca Python de código aberto\n",
    "  * Sem HTML ou JavaScript, o Dash possibilita criar interfaces em Python com inúmeros componentes interativos  "
   ]
  },
  {
   "cell_type": "markdown",
   "metadata": {
    "colab_type": "text",
    "id": "erSSYzsWitW-"
   },
   "source": [
    "### **Instalação**\n",
    "  * Com o seu terminal/prompt de comando aberto, escreva o seguinte código para instalação:\n",
    "  > `pip install dash==1.16.2`\n",
    "    * versão atualizada em 2020-09-25\n",
    "  * Dash automaticamente instala os seguintes pacotes:\n",
    "    * `dash-renderer`\n",
    "        * versão 1.8.2\n",
    "    * `dash-core-components`\n",
    "        * versão 1.12.1\n",
    "    * `dash-html-components`\n",
    "        * versão 1.1.1\n",
    "    * `dash-table`\n",
    "        * versão 4.10.1\n",
    "  * Para verificar a versão de um pacote:\n",
    "    > `import [nome do pacote]`\n",
    "    >\n",
    "    > `print([nome do pacote].__version__)`"
   ]
  },
  {
   "cell_type": "markdown",
   "metadata": {
    "colab_type": "text",
    "id": "9Ank4fFD5m3f"
   },
   "source": [
    "### **Instalando o pacote Dash**"
   ]
  },
  {
   "cell_type": "code",
   "execution_count": null,
   "metadata": {
    "colab": {},
    "colab_type": "code",
    "id": "SFzJudO_5OCw"
   },
   "outputs": [],
   "source": [
    "pip install dash==1.16.2"
   ]
  },
  {
   "cell_type": "markdown",
   "metadata": {},
   "source": [
    ">Para verificar se os outros pacotes foram instalados automaticamente, no seu terminal, reproduza\n",
    "> `pip list` ou `pip freeze` e busque pelos seus nomes."
   ]
  },
  {
   "cell_type": "markdown",
   "metadata": {},
   "source": [
    "### **Verificando a versão**"
   ]
  },
  {
   "cell_type": "code",
   "execution_count": null,
   "metadata": {},
   "outputs": [],
   "source": [
    "import dash\n",
    "print(dash.__version__)"
   ]
  },
  {
   "cell_type": "markdown",
   "metadata": {
    "colab_type": "text",
    "id": "F_Dw5wq9x_7z"
   },
   "source": [
    "## **Layout**\n",
    "***\n",
    "O layout é um componente fundamental para as aplicações com a biblioteca Dash em Python. Ele é quem descreve como a aplicação se apresentará, ou seja, a construção visual da aplicação web desde a parte estética até a organização dos componentes.\n",
    "\n",
    "Para construir a parte visual da aplicação, é disponível um conjunto de componentes com as bibliotecas `dash_core_components` e `dash_html_components`.\n",
    "\n",
    "Encontre mais exemplos em [Layout](https://dash.plotly.com/layout).\n"
   ]
  },
  {
   "cell_type": "markdown",
   "metadata": {
    "colab_type": "text",
    "id": "Y03_2vlOuSay"
   },
   "source": [
    "### **Primeiro Exemplo - Exemplo_1.py**"
   ]
  },
  {
   "cell_type": "markdown",
   "metadata": {
    "colab_type": "text",
    "id": "-CTN8xAE3qYZ"
   },
   "source": [
    "#### **Importando os módulos necessários**"
   ]
  },
  {
   "cell_type": "code",
   "execution_count": null,
   "metadata": {
    "colab": {},
    "colab_type": "code",
    "id": "BU_-pPOD3m7z"
   },
   "outputs": [],
   "source": [
    "import dash\n",
    "import dash_core_components as dcc\n",
    "import dash_html_components as html"
   ]
  },
  {
   "cell_type": "markdown",
   "metadata": {
    "colab_type": "text",
    "id": "-TcHCV9RWjlH"
   },
   "source": [
    "#### **Ajustando o tipo de fonte usando CSS para modificar o padrão dos elementos utilizados**"
   ]
  },
  {
   "cell_type": "code",
   "execution_count": null,
   "metadata": {
    "colab": {},
    "colab_type": "code",
    "id": "5bLf0YAd52Oe"
   },
   "outputs": [],
   "source": [
    "external_stylesheets = ['https://codepen.io/chriddyp/pen/bWLwgP.css']\n",
    "\n",
    "app = dash.Dash(__name__, external_stylesheets=external_stylesheets)"
   ]
  },
  {
   "cell_type": "markdown",
   "metadata": {
    "colab_type": "text",
    "id": "hlnVBCv-X4vi"
   },
   "source": [
    "#### **O layout é composto por 4 elementos, ou seja, elementos do tipo `html.Div`, `html.H1` e `dcc.Graph`**"
   ]
  },
  {
   "cell_type": "code",
   "execution_count": null,
   "metadata": {
    "colab": {},
    "colab_type": "code",
    "id": "f_R4hWsE588H"
   },
   "outputs": [],
   "source": [
    "app.layout = html.Div(children=[\n",
    "                                \n",
    "    html.H1(children='Apresentação da biblioteca Dash!'),\n",
    "\n",
    "    html.Div(children='''\n",
    "        Dash: Aplicação na internet para Python.\n",
    "    '''),\n",
    "\n",
    "    dcc.Graph(\n",
    "        id='example-graph',\n",
    "        figure={\n",
    "            'data':[\n",
    "                    {'x':[0,1,2,3,4,5,6],'y':[0,1,2,3,4,5,6],'type':'line+markers','name':'Reta'},\n",
    "                    {'x':[0,1,2,3,4,5,6],'y':[0,1,4,9,16,25,36],'type':'line+markers','name':'Parábola'}\n",
    "            ],\n",
    "            'layout':{\n",
    "                'title':'Gráfico Exemplo'\n",
    "            }\n",
    "        }\n",
    "    )\n",
    "    \n",
    "])"
   ]
  },
  {
   "cell_type": "markdown",
   "metadata": {
    "colab_type": "text",
    "id": "DDv3JSh3YCvp"
   },
   "source": [
    "No Dash já é incluso o \"hot-reloading\", ou seja, graças ao `app.run_server(debug=True)` a aplicação será autualizada automáticamente assim que alguma modificação seja feita.\n",
    "Caso não queira que a página no navegador seja atualizada sempre que for feita uma modificação no código fonte, utilize `app.run_server(dev_tools_hot_reload = False)`.\n",
    "> Entenda mais sobre sobre o no tópico [Dash Dev Tools](https://dash.plotly.com/devtools)."
   ]
  },
  {
   "cell_type": "code",
   "execution_count": null,
   "metadata": {
    "colab": {},
    "colab_type": "code",
    "id": "WeQGMQt96C-n"
   },
   "outputs": [],
   "source": [
    "if __name__ == '__main__':\n",
    "    app.run_server(debug=True, port=1, use_reloader = False)\n",
    "\n",
    "# port=1 irá servir a aplicação na porta 1, a qual por padrão é a porta 8050"
   ]
  },
  {
   "cell_type": "markdown",
   "metadata": {
    "colab_type": "text",
    "id": "5R0DnnCkegkf"
   },
   "source": [
    "O exemplo acima deve ser salvo como um arquivo Python (extensão \".py\") e ser executado usando `python [nome do arquivo].py`.\n",
    "\n",
    "Para utilizar os exemplos desse material com o Jupyter Notebook, acesse [Introducing JupyterDash](https://medium.com/plotly/introducing-jupyterdash-811f1f57c02e) ou você pode desativar o seguinte parametro:\n",
    ">`app.run_server(debug = True, use_reloader = False)`."
   ]
  },
  {
   "cell_type": "markdown",
   "metadata": {
    "colab_type": "text",
    "id": "oS4H02gX1eSY"
   },
   "source": [
    "## **CallBack**\n",
    "***\n",
    "CallBack é uma função de chamada que compõe as aplicações com Dash. Essa é responsável por deixar a aplicação interativa e promover a atualização automática de funções assim que as propriedades de entrada (*input*) a essas são alteradas.\n",
    "\n",
    "Em qualquer atributo, seja ele criado com `dash_core_components` ou `dash_html_components`, os parametos criados são do tipo `style`, `className`, `id` e etc. Esses parâmetros, principalemente o parametro `id`, axiliam na callback uma vez que identifica um certo componente (não é possível ter um mesmo `id` para dois componentes).\n",
    "\n",
    "Encontre mais exemplos sobre callback em [Basic CallBacks](https://dash.plotly.com/basic-callbacks)."
   ]
  },
  {
   "cell_type": "markdown",
   "metadata": {
    "colab_type": "text",
    "id": "TEKWbQX3upi9"
   },
   "source": [
    "### **Segundo Exemplo - Exemplo_2.py**\n",
    "\n",
    "Para esse exemplo, foi utilizados os seguintes componentes:\n",
    "* `dcc.Tabs`\n",
    "* `dcc.Tab`\n",
    "* `go.Scatter` e `go.Bar` da biblioteca `plotly.graph_objects`, funções muito utilizadas para visualização de dados em gráfico.\n"
   ]
  },
  {
   "cell_type": "markdown",
   "metadata": {
    "colab_type": "text",
    "id": "eheY5sSintIR"
   },
   "source": [
    "#### **Importando os módulos necessários**"
   ]
  },
  {
   "cell_type": "code",
   "execution_count": null,
   "metadata": {
    "colab": {},
    "colab_type": "code",
    "id": "mDLwmLrHigfn"
   },
   "outputs": [],
   "source": [
    "import dash\n",
    "import dash_core_components as dcc\n",
    "import dash_html_components as html\n",
    "from dash.dependencies import Input, Output\n",
    "\n",
    "import plotly.graph_objects as go"
   ]
  },
  {
   "cell_type": "markdown",
   "metadata": {
    "colab_type": "text",
    "id": "dfHe3HCTpYSQ"
   },
   "source": [
    "#### **Ajustando o tipo de fonte usando CSS para modificar o padrão dos elementos utilizados**"
   ]
  },
  {
   "cell_type": "code",
   "execution_count": null,
   "metadata": {
    "colab": {},
    "colab_type": "code",
    "id": "FGT0g4D_pbW3"
   },
   "outputs": [],
   "source": [
    "external_stylesheets = ['https://codepen.io/chriddyp/pen/bWLwgP.css']\n",
    "\n",
    "app2 = dash.Dash(__name__, external_stylesheets=external_stylesheets)"
   ]
  },
  {
   "cell_type": "markdown",
   "metadata": {},
   "source": [
    "Com aplicativos Dash mais complexos que envolvem modificação dinâmica do layout (como [Multi-Page Apps](https://dash.plotly.com/urls)), nem todos os componentes que aparecem em seus retornos de chamada serão incluídos no layout inicial. Você pode remover essa restrição desativando a validação de retorno de chamada:\n",
    "> `app.config.suppress_callback_exceptions = True`\n",
    "\n",
    "Nesse exemplo, todas os componentes aparecem na mesma callback e não utilizamos modificação dinâmica de layout. Portanto, não é necessário."
   ]
  },
  {
   "cell_type": "markdown",
   "metadata": {
    "colab_type": "text",
    "id": "ABaKXeMzn61j"
   },
   "source": [
    "#### **Construindo o layout do app2**"
   ]
  },
  {
   "cell_type": "code",
   "execution_count": null,
   "metadata": {
    "colab": {},
    "colab_type": "code",
    "id": "8Hl-1nAVn1xg"
   },
   "outputs": [],
   "source": [
    "app2.layout = html.Div([\n",
    "\n",
    "    html.H2(\n",
    "        ['Painel de visualização de gráficos'],style={'textAlign':'center','font-weight':'bold'}\n",
    "    ),\n",
    "\n",
    "    html.Hr(),\n",
    "\n",
    "    dcc.Tabs(\n",
    "        id='tabs',\n",
    "        children=[\n",
    "            dcc.Tab(label='Gráfico de linha',value='tab-1'),\n",
    "            dcc.Tab(label='Gráfico de Barra',value='tab-2'),\n",
    "            dcc.Tab(label='Gráfico de Linha e Pontos',value='tab-3')\n",
    "        ]\n",
    "    ),\n",
    "    html.Div(id='tabs-content'),\n",
    "\n",
    "    html.Hr(),\n",
    "])"
   ]
  },
  {
   "cell_type": "markdown",
   "metadata": {},
   "source": [
    "#### **Função de apoio criada para retornar o gráfico gerado de cada aba**"
   ]
  },
  {
   "cell_type": "code",
   "execution_count": null,
   "metadata": {},
   "outputs": [],
   "source": [
    "def gera_grafico(tipo):\n",
    "    fig = go.Figure()\n",
    "\n",
    "    fig.add_trace(\n",
    "        go.Scatter(\n",
    "            x=[0,1,2,3,4,5,6],\n",
    "            y=[0,1,2,3,4,5,6],\n",
    "            mode=tipo,\n",
    "            name='Reta',\n",
    "            )\n",
    "        )\n",
    "\n",
    "    fig.add_trace(\n",
    "        go.Scatter(\n",
    "            x=[0,1,2,3,4,5,6],\n",
    "            y=[0,1,4,9,16,25,36],\n",
    "            mode=tipo,\n",
    "            name='Parábola',\n",
    "            )\n",
    "        )\n",
    "\n",
    "    fig.update_layout(title='Gráfico Exemplo')\n",
    "    \n",
    "    return fig"
   ]
  },
  {
   "cell_type": "markdown",
   "metadata": {
    "colab_type": "text",
    "id": "2cgZJwwgr3df"
   },
   "source": [
    "#### **Construindo o `@app2.callback()`**"
   ]
  },
  {
   "cell_type": "code",
   "execution_count": null,
   "metadata": {
    "colab": {},
    "colab_type": "code",
    "id": "dutsjNa1sNdA"
   },
   "outputs": [],
   "source": [
    "@app2.callback(\n",
    "    Output('tabs-content','children'),\n",
    "    [\n",
    "        Input('tabs','value')\n",
    "    ]\n",
    ")\n",
    "def update_tab(tab):\n",
    "    if tab == 'tab-1':\n",
    "        return html.Div([\n",
    "            dcc.Graph(figure = gera_grafico('lines'))\n",
    "        ])\n",
    "\n",
    "    elif tab == 'tab-2':\n",
    "        fig_bar = go.Figure()\n",
    "\n",
    "        fig_bar.add_trace(\n",
    "            go.Bar(\n",
    "                x=[0,1,2,3,4,5,6],\n",
    "                y=[0,1,2,3,4,5,6],\n",
    "                )\n",
    "            )\n",
    "\n",
    "        fig_bar.add_trace(\n",
    "            go.Bar(\n",
    "                x=[0,1,2,3,4,5,6],\n",
    "                y=[0,1,4,9,16,25,36],\n",
    "                )\n",
    "            )\n",
    "        fig_bar.update_layout(title='Gráfico em Barras Exemplo')\n",
    "        \n",
    "        return html.Div([\n",
    "            dcc.Graph(figure = fig_bar)\n",
    "        ])\n",
    "\n",
    "    elif tab == 'tab-3':\n",
    "        return html.Div([\n",
    "            dcc.Graph(figure = gera_grafico('lines+markers'))\n",
    "        ])\n",
    "\n",
    "    else:\n",
    "        return html.Div(['Erro 404'])"
   ]
  },
  {
   "cell_type": "markdown",
   "metadata": {
    "colab_type": "text",
    "id": "pqR24Rszs5JG"
   },
   "source": [
    "#### **`Input` e `Output` serão os responsáveis pelas alterações automáticas na interface da aplicação web.**"
   ]
  },
  {
   "cell_type": "code",
   "execution_count": null,
   "metadata": {
    "colab": {},
    "colab_type": "code",
    "id": "BLKyu68Us3bO",
    "tags": []
   },
   "outputs": [],
   "source": [
    "if __name__ == \"__main__\":\n",
    "    app2.run_server(debug=True, port=2, use_reloader=False)"
   ]
  },
  {
   "cell_type": "markdown",
   "metadata": {
    "colab_type": "text",
    "id": "4KpcByC3tpTO"
   },
   "source": [
    "O exemplo acima deve ser salvo como um arquivo Python (extensão \".py\") e ser executado usando `python [nome do arquivo].py`.\n",
    "\n",
    "Para utilizar os exemplos desse material com o Jupyter Notebook, acesse [Introducing JupyterDash](https://medium.com/plotly/introducing-jupyterdash-811f1f57c02e) ou você pode desativar o seguinte parametro:\n",
    ">`app.run_server(debug = True, use_reloader = False)`."
   ]
  },
  {
   "cell_type": "markdown",
   "metadata": {
    "colab_type": "text",
    "id": "aG-PBYpdu8M6"
   },
   "source": [
    "## **Dash Core Components**\n",
    "***"
   ]
  },
  {
   "cell_type": "markdown",
   "metadata": {
    "colab_type": "text",
    "id": "6SJk_DPG1gB9"
   },
   "source": [
    "### **Prévia dos componentes**\n",
    "* [Overview Dash Core Components](https://dash.plotly.com/dash-core-components)\n",
    "\n",
    "### **Dropdown**\n",
    "\n",
    "* [Dropdown Examples and Reference](https://dash.plotly.com/dash-core-components/dropdown)"
   ]
  },
  {
   "cell_type": "code",
   "execution_count": null,
   "metadata": {},
   "outputs": [],
   "source": [
    "dcc.Dropdown(\n",
    "        options=[\n",
    "            {\n",
    "                'label': f'Opção {value}', 'value': f'{value}'\n",
    "            }\n",
    "            for value in range(0,10)\n",
    "        ],\n",
    "        value='MTL'\n",
    "    ),"
   ]
  },
  {
   "cell_type": "markdown",
   "metadata": {
    "colab_type": "text",
    "id": "TjwE_9rNzukB"
   },
   "source": [
    "### **Slider**\n",
    "* [Slider Examples and Reference](https://dash.plotly.com/dash-core-components/slider)"
   ]
  },
  {
   "cell_type": "code",
   "execution_count": null,
   "metadata": {
    "colab": {},
    "colab_type": "code",
    "id": "dcqvqL-pzzrI"
   },
   "outputs": [],
   "source": [
    "dcc.Slider(\n",
    "    min=-5,\n",
    "    max=10,\n",
    "    step=0.5,\n",
    "    value=-3\n",
    ")  "
   ]
  },
  {
   "cell_type": "markdown",
   "metadata": {
    "colab_type": "text",
    "id": "gO0sce73z8OA"
   },
   "source": [
    "### **RangeSlider**\n",
    "* [RangeSlider Examples and Reference](https://dash.plotly.com/dash-core-components/rangeslider)."
   ]
  },
  {
   "cell_type": "code",
   "execution_count": null,
   "metadata": {
    "colab": {},
    "colab_type": "code",
    "id": "GT1wfkGf0A_P"
   },
   "outputs": [],
   "source": [
    "dcc.RangeSlider(\n",
    "    count=1,\n",
    "    min=-5,\n",
    "    max=10,\n",
    "    step=0.5,\n",
    "    value=[-3, 7]\n",
    ")"
   ]
  },
  {
   "cell_type": "markdown",
   "metadata": {
    "colab_type": "text",
    "id": "pYaIzyY20E68"
   },
   "source": [
    "### **Input**\n",
    "* [Input Examples and Reference](https://dash.plotly.com/dash-core-components/input)"
   ]
  },
  {
   "cell_type": "code",
   "execution_count": null,
   "metadata": {
    "colab": {},
    "colab_type": "code",
    "id": "TCpTghC_0KAw"
   },
   "outputs": [],
   "source": [
    "dcc.Input(\n",
    "    placeholder='Enter a value...',\n",
    "    type='text',\n",
    "    value=''\n",
    ")  "
   ]
  },
  {
   "cell_type": "markdown",
   "metadata": {
    "colab_type": "text",
    "id": "mlVHlqSM0Nl4"
   },
   "source": [
    "### **Checkboxes**\n",
    "* [dcc.Checklist](https://dash.plotly.com/dash-core-components/checklist)"
   ]
  },
  {
   "cell_type": "code",
   "execution_count": null,
   "metadata": {
    "colab": {},
    "colab_type": "code",
    "id": "MP0j4Kgv0S_H"
   },
   "outputs": [],
   "source": [
    "dcc.Checklist(\n",
    "    options=[\n",
    "        {'label': 'New York City', 'value': 'NYC'},\n",
    "        {'label': 'Montréal', 'value': 'MTL'},\n",
    "        {'label': 'San Francisco', 'value': 'SF'}\n",
    "    ],\n",
    "    value=['MTL', 'SF']\n",
    ") "
   ]
  },
  {
   "cell_type": "markdown",
   "metadata": {
    "colab_type": "text",
    "id": "DGkkUeHx0VyS"
   },
   "source": [
    "### **Radio Items**\n",
    "* [dcc.RadioItems Examples & Documentation](https://dash.plotly.com/dash-core-components/radioitems)"
   ]
  },
  {
   "cell_type": "code",
   "execution_count": null,
   "metadata": {
    "colab": {},
    "colab_type": "code",
    "id": "UT2GLOUm0ckc"
   },
   "outputs": [],
   "source": [
    "dcc.RadioItems(\n",
    "    options=[\n",
    "        {'label': 'New York City', 'value': 'NYC'},\n",
    "        {'label': 'Montréal', 'value': 'MTL'},\n",
    "        {'label': 'San Francisco', 'value': 'SF'}\n",
    "    ],\n",
    "    value='MTL'\n",
    ")  "
   ]
  },
  {
   "cell_type": "markdown",
   "metadata": {},
   "source": [
    "### **Graph**\n",
    "\n",
    "O componente dcc.Graph compartilha da mesma sintaxe da biblioteca plotly.py, ou seja, a construção do que o parâmetro `figure` recebe é semelhante (data,layout).\n",
    "\n",
    "* [dcc.Graph](https://dash.plotly.com/dash-core-components/graph)"
   ]
  },
  {
   "cell_type": "code",
   "execution_count": null,
   "metadata": {},
   "outputs": [],
   "source": [
    "dcc.Graph(\n",
    "        id='example-graph',\n",
    "        figure={\n",
    "            'data':[\n",
    "                    {'x':[0,1,2,3,4,5,6],'y':[0,1,2,3,4,5,6],'type':'line+markers','name':'Reta'},\n",
    "                    {'x':[0,1,2,3,4,5,6],'y':[0,1,4,9,16,25,36],'type':'line+markers','name':'Parábola'}\n",
    "            ],\n",
    "            'layout':{\n",
    "                'title':'Gráfico Exemplo'\n",
    "            }\n",
    "        }\n",
    "    )"
   ]
  },
  {
   "cell_type": "markdown",
   "metadata": {
    "colab_type": "text",
    "id": "L_wQ0b-l0grI"
   },
   "source": [
    "### **Link**\n",
    "\n",
    "* [dcc.Link](https://dash.plotly.com/dash-core-components/link)"
   ]
  },
  {
   "cell_type": "code",
   "execution_count": null,
   "metadata": {
    "colab": {},
    "colab_type": "code",
    "id": "h9Soe_CM0fx5"
   },
   "outputs": [],
   "source": [
    "dcc.Link()"
   ]
  },
  {
   "cell_type": "markdown",
   "metadata": {},
   "source": [
    "### **Visualização dos Componentes**"
   ]
  },
  {
   "cell_type": "code",
   "execution_count": null,
   "metadata": {},
   "outputs": [],
   "source": [
    "import dash\n",
    "import dash_core_components as dcc\n",
    "import dash_html_components as html"
   ]
  },
  {
   "cell_type": "code",
   "execution_count": null,
   "metadata": {},
   "outputs": [],
   "source": [
    "external_stylesheets = ['https://codepen.io/chriddyp/pen/bWLwgP.css']\n",
    "\n",
    "app_dash_core_components = dash.Dash(__name__, external_stylesheets=external_stylesheets)"
   ]
  },
  {
   "cell_type": "code",
   "execution_count": null,
   "metadata": {
    "colab": {},
    "colab_type": "code",
    "id": "XuktMJLvzrHI"
   },
   "outputs": [],
   "source": [
    "app_dash_core_components.layout = html.Div([\n",
    "    html.H1('Dash Core Components',style={'textAlign':'center','font-weight':'bold'}),\n",
    "\n",
    "    html.Div([\n",
    "\n",
    "            html.Hr(),\n",
    "            html.H2(\n",
    "                ['Componente Dropdown']\n",
    "            ),\n",
    "\n",
    "            dcc.Dropdown(\n",
    "                options=[\n",
    "                    {\n",
    "                        'label': f'Opção {value}', 'value': f'{value}'\n",
    "                    }\n",
    "                    for value in range(0,10)\n",
    "                ],\n",
    "                value='1'\n",
    "            ),\n",
    "\n",
    "            html.Hr(),\n",
    "            html.H2(\n",
    "                ['Componente Slider']\n",
    "            ),\n",
    "    \n",
    "            dcc.Slider(\n",
    "                min=-5,\n",
    "                max=10,\n",
    "                step=0.5,\n",
    "                value=-3\n",
    "            ),\n",
    "\n",
    "            html.Hr(),\n",
    "            html.H2(\n",
    "                ['Componente RangeSlider']\n",
    "            ),\n",
    "\n",
    "            dcc.RangeSlider(\n",
    "                count=1,\n",
    "                min=-5,\n",
    "                max=10,\n",
    "                step=0.5,\n",
    "                value=[-3, 7]\n",
    "            ),\n",
    "\n",
    "            html.Hr(),\n",
    "            html.H2(\n",
    "                ['Componente Input']\n",
    "            ),\n",
    "\n",
    "            dcc.Input(\n",
    "                placeholder='Insira uma mensagem...',\n",
    "                type='text',\n",
    "                value=''\n",
    "            ),\n",
    "            \n",
    "            html.Hr(),\n",
    "            html.H2(\n",
    "                ['Componente Link']\n",
    "            ),\n",
    "\n",
    "            dcc.Link(),\n",
    "\n",
    "        ],\n",
    "        style={\n",
    "            'margin-left':'10px',\n",
    "            'margin-right':'10px',\n",
    "            'width': '48%',\n",
    "            'display':'inline-block',\n",
    "            'float':'left',\n",
    "            'border': '2px solid lightblue'\n",
    "            }\n",
    "    ),\n",
    "\n",
    "    html.Div([\n",
    "\n",
    "            html.Hr(),\n",
    "            html.H2(\n",
    "                ['Componente Checklist']\n",
    "            ),\n",
    "\n",
    "            dcc.Checklist(\n",
    "                options=[\n",
    "                    {\n",
    "                        'label': f'Opção {value}', 'value': f'{value}'\n",
    "                    }\n",
    "                for value in range(1,6)\n",
    "                ],\n",
    "                value=['1', '9']\n",
    "            ),\n",
    "\n",
    "            html.Hr(),\n",
    "            html.H2(\n",
    "                ['Componente RadioItems']\n",
    "            ),\n",
    "\n",
    "            dcc.RadioItems(\n",
    "                options=[\n",
    "                    {\n",
    "                        'label': f'Opção {value}', 'value': f'{value}'\n",
    "                    }\n",
    "                    for value in range(1,6)\n",
    "                ],\n",
    "                value='MTL'\n",
    "            ),\n",
    "\n",
    "            html.Hr(),\n",
    "            html.H2(\n",
    "                ['Componente Graph']\n",
    "            ),\n",
    "\n",
    "            dcc.Graph(\n",
    "                id='example-graph',\n",
    "                figure={\n",
    "                    'data':[\n",
    "                            {'x':[0,1,2,3,4,5,6],'y':[0,1,2,3,4,5,6],'type':'line+markers','name':'Reta'},\n",
    "                            {'x':[0,1,2,3,4,5,6],'y':[0,1,4,9,16,25,36],'type':'line+markers','name':'Parábola'}\n",
    "                    ],\n",
    "                    'layout':{\n",
    "                        'title':'Gráfico Exemplo'\n",
    "                    }\n",
    "                }\n",
    "            ),\n",
    "        ],\n",
    "        style={\n",
    "            'margin-left':'10px',\n",
    "            'margin-right':'10px',\n",
    "            'width': '48%',\n",
    "            'display':'inline-block',\n",
    "            'float':'right',\n",
    "            'border': '2px solid lightblue'\n",
    "            }\n",
    "    )\n",
    "\n",
    "    ],\n",
    "    style={'margin-left':'10px','margin-right':'10px','border': '2px solid lightblue'})"
   ]
  },
  {
   "cell_type": "code",
   "execution_count": null,
   "metadata": {
    "tags": []
   },
   "outputs": [],
   "source": [
    "if __name__ == \"__main__\":\n",
    "    app_dash_core_components.run_server(debug=True, port=3, use_reloader=False)"
   ]
  },
  {
   "cell_type": "markdown",
   "metadata": {
    "colab_type": "text",
    "id": "ERN_YijlvEmV"
   },
   "source": [
    "## **Dash HTML Components**\n",
    "***"
   ]
  },
  {
   "cell_type": "markdown",
   "metadata": {
    "colab_type": "text",
    "id": "3z8uDeNC4MQv"
   },
   "source": [
    "### **html.Div**\n",
    "\n",
    "* [html.Div](https://dash.plotly.com/dash-html-components/div).\n",
    "\n",
    "É bastante utilizado para alocar outros componentes. Pensando no compontente html.Div como uma caixa, tem-se ele para armazenar algo, ou seja, uma divisão destinada a algo."
   ]
  },
  {
   "cell_type": "code",
   "execution_count": null,
   "metadata": {},
   "outputs": [],
   "source": [
    "html.Div(\n",
    "    children=[],\n",
    "    id='',\n",
    "    className='',\n",
    "    style={},\n",
    "    n_clicks=0, #default\n",
    ")"
   ]
  },
  {
   "cell_type": "markdown",
   "metadata": {},
   "source": []
  },
  {
   "cell_type": "markdown",
   "metadata": {
    "colab_type": "text",
    "id": "D0xg5PdY3Vob"
   },
   "source": [
    "### **html.H1 - html.H2 - html.H3 - html.H4 - html.H5 - html.H6**\n",
    "\n",
    "Para trabalhar com a propriedade *style* e *className* dos componentes hmtl e dcc, esse [site](https://www.w3schools.com/css/default.asp) fornece dicas de CSS, linguagem utilizada para adicionar estilo em documentos HTML."
   ]
  },
  {
   "cell_type": "code",
   "execution_count": null,
   "metadata": {
    "colab": {},
    "colab_type": "code",
    "id": "RrUxkpM133KG"
   },
   "outputs": [],
   "source": [
    "html.H1(\n",
    "    children=[],\n",
    "    id='',\n",
    "    className='',\n",
    "    style={},\n",
    "    n_clicks=0, #default\n",
    ")"
   ]
  },
  {
   "cell_type": "markdown",
   "metadata": {},
   "source": [
    "#### **html.P**\n",
    "\n",
    "* [html.P]().\n",
    "\n",
    "Elemento paragráfo/bloco indentado do texto."
   ]
  },
  {
   "cell_type": "code",
   "execution_count": null,
   "metadata": {},
   "outputs": [],
   "source": [
    "htlm.P(\n",
    "    children=[],\n",
    "    id='',\n",
    "    className='',\n",
    "    style={}\n",
    ")"
   ]
  },
  {
   "cell_type": "markdown",
   "metadata": {},
   "source": [
    "### **html.Button**\n",
    "\n",
    "* [Button Examples and Reference](https://dash.plotly.com/dash-html-components/button).\n",
    "\n"
   ]
  },
  {
   "cell_type": "code",
   "execution_count": null,
   "metadata": {
    "colab": {},
    "colab_type": "code",
    "id": "U_ZCxcqc4L5V"
   },
   "outputs": [],
   "source": [
    "html.Button(\n",
    "    children=[],\n",
    "    id='',\n",
    "    className='',\n",
    "    n_clicks=0, #default\n",
    "    n_clicks_timestamp= -1, #default\n",
    ")"
   ]
  },
  {
   "cell_type": "markdown",
   "metadata": {
    "colab_type": "text",
    "id": "UQpPvllf4p8l"
   },
   "source": [
    "### **html.Hr**\n",
    "\n",
    "* [html.Hr](https://dash.plotly.com/dash-html-components/hr).\n",
    "\n",
    "Fornece uma linha horizontal.\n",
    "Quando é utilizado `dcc.Markdown`, podemos inserir essa linha com \"***\" ou \"___\" sem a necessidade de inserir um componente `html.Hr()`."
   ]
  },
  {
   "cell_type": "code",
   "execution_count": null,
   "metadata": {
    "colab": {},
    "colab_type": "code",
    "id": "8WrEYi7B4zat"
   },
   "outputs": [],
   "source": [
    "html.Hr(\n",
    "    children=[],\n",
    "    id='',\n",
    "    className='',\n",
    ")"
   ]
  },
  {
   "cell_type": "markdown",
   "metadata": {},
   "source": [
    "#### **html.Table - html.Th - html.Td**\n",
    "\n",
    "* [html.Table](https://dash.plotly.com/dash-html-components/table)\n",
    "* [html.Th](https://dash.plotly.com/dash-html-components/th)\n",
    "* [html.Td](https://dash.plotly.com/dash-html-components/td)"
   ]
  },
  {
   "cell_type": "code",
   "execution_count": null,
   "metadata": {},
   "outputs": [],
   "source": [
    "html.Table([\n",
    "    html.Tr([\n",
    "        html.Th('1'),\n",
    "        html.Th('2'),\n",
    "        html.Th('3'),\n",
    "        html.Th('4')\n",
    "    ]),\n",
    "    html.Tr([\n",
    "        html.Td('a11'),\n",
    "        html.Td('a12'),\n",
    "        html.Td('a13'),\n",
    "        html.Td('a14')\n",
    "    ]),\n",
    "    html.Tr([\n",
    "        html.Td('a21'),\n",
    "        html.Td('a22'),\n",
    "        html.Td('a23'),\n",
    "        html.Td('a24')\n",
    "    ]),\n",
    "])"
   ]
  },
  {
   "cell_type": "markdown",
   "metadata": {},
   "source": [
    "#### **html."
   ]
  },
  {
   "cell_type": "markdown",
   "metadata": {
    "colab_type": "text",
    "id": "hbrX2ksjvXK_"
   },
   "source": [
    "## **Dash DataTable**\n",
    "***\n",
    "\n",
    "Dash DataTable é um componente interativo em tabela que serve para visualização e edição de dados com Python.\n",
    "\n",
    "* [Dash DataTable](https://dash.plotly.com/datatable)\n",
    "\n",
    "#### **Importando `dash_table`**"
   ]
  },
  {
   "cell_type": "code",
   "execution_count": null,
   "metadata": {
    "colab": {},
    "colab_type": "code",
    "id": "vzEw3IL1ttFg"
   },
   "outputs": [],
   "source": [
    "import dash\n",
    "import pandas as pd\n",
    "\n",
    "import dash_table"
   ]
  },
  {
   "cell_type": "code",
   "execution_count": null,
   "metadata": {
    "tags": []
   },
   "outputs": [],
   "source": [
    "df = pd.read_csv('mensal_bi_tri_se_an_sousa_geral.csv')\n",
    "# Anual: [864:]\n",
    "df = df[864:]\n",
    "\n",
    "app3 = dash.Dash(__name__)\n",
    "\n",
    "app3.layout = dash_table.DataTable(\n",
    "    id='table',\n",
    "    columns=[{\"name\": i, \"id\": i} for i in df.columns],\n",
    "    data=df.to_dict('records'),\n",
    ")"
   ]
  },
  {
   "cell_type": "code",
   "execution_count": null,
   "metadata": {
    "tags": []
   },
   "outputs": [],
   "source": [
    "if __name__ == '__main__':\n",
    "    app3.run_server(debug=True, use_reloader=False)"
   ]
  },
  {
   "cell_type": "markdown",
   "metadata": {},
   "source": [
    "### Dash DataTable - Exemplo Página Teste - Cidade Sousa.py\n",
    "\n",
    "Para esse exemplo, foi criada uma função chamada `gera_tabela(df)` com a função de retornar a tabela para a minha aplicação web.\n",
    "\n",
    "Links de apoio:\n",
    "* [Dash DataTable - Styling](https://dash.plotly.com/datatable/style).\n",
    "* [Dash DataTable - Interactivity](https://dash.plotly.com/datatable/interactivity).\n",
    "* [Editable DataTable](https://dash.plotly.com/datatable/editable)."
   ]
  },
  {
   "cell_type": "code",
   "execution_count": null,
   "metadata": {},
   "outputs": [],
   "source": [
    "def gera_tabela(df):\n",
    "\n",
    "    return dash_table.DataTable(\n",
    "\n",
    "            data = df.to_dict('records'),\n",
    "\n",
    "            columns = [\n",
    "                {\n",
    "                    'name': col, \n",
    "                    'id': col,\n",
    "                } \n",
    "                for col in df.columns\n",
    "            ],\n",
    "\n",
    "            style_cell={\n",
    "                'textAlign': 'center',\n",
    "                'border': '1px solid grey',\n",
    "                'minWidth':'90px',\n",
    "                'width':'125px',\n",
    "                'maxWidth':'160px',\n",
    "                'fontSize':'14',\n",
    "                'font-family':'sans-serif'\n",
    "                },\n",
    "                \n",
    "            style_header={\n",
    "                'backgroundColor': '#ADD8E6',\n",
    "                'fontWeight': 'bold'\n",
    "            },\n",
    "\n",
    "            page_size = 12,\n",
    "\n",
    "            style_table = {\n",
    "                'height':'auto',\n",
    "                'minWidth': '100%',\n",
    "                'overflowX': 'auto',\n",
    "                'border': '2px solid lightgreen',\n",
    "            }\n",
    "        )"
   ]
  }
 ],
 "metadata": {
  "colab": {
   "name": "Dash Python.ipynb",
   "provenance": []
  },
  "kernelspec": {
   "display_name": "Python 3",
   "language": "python",
   "name": "python3"
  },
  "language_info": {
   "codemirror_mode": {
    "name": "ipython",
    "version": 3
   },
   "file_extension": ".py",
   "mimetype": "text/x-python",
   "name": "python",
   "nbconvert_exporter": "python",
   "pygments_lexer": "ipython3",
   "version": "3.8.5-final"
  }
 },
 "nbformat": 4,
 "nbformat_minor": 1
}